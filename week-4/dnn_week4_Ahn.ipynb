{
 "cells": [
  {
   "cell_type": "markdown",
   "metadata": {},
   "source": [
    "# Week 4, let's apply DNN to MNIST dataset with various settings\n"
   ]
  },
  {
   "cell_type": "code",
   "execution_count": 1,
   "metadata": {},
   "outputs": [],
   "source": [
    "# Import packages \n",
    "\n",
    "import tensorflow as tf\n",
    "import random\n",
    "import matplotlib.pyplot as plt"
   ]
  },
  {
   "cell_type": "code",
   "execution_count": 2,
   "metadata": {},
   "outputs": [
    {
     "name": "stdout",
     "output_type": "stream",
     "text": [
      "Extracting MNIST_data/train-images-idx3-ubyte.gz\n",
      "Extracting MNIST_data/train-labels-idx1-ubyte.gz\n",
      "Extracting MNIST_data/t10k-images-idx3-ubyte.gz\n",
      "Extracting MNIST_data/t10k-labels-idx1-ubyte.gz\n"
     ]
    }
   ],
   "source": [
    "## Download MNIST data\n",
    "from tensorflow.examples.tutorials.mnist import input_data\n",
    "mnist = input_data.read_data_sets(\"MNIST_data/\", one_hot=True)"
   ]
  },
  {
   "cell_type": "code",
   "execution_count": 3,
   "metadata": {},
   "outputs": [
    {
     "data": {
      "text/plain": [
       "'/Users/wahn/anaconda3/envs/tf/bin/python'"
      ]
     },
     "execution_count": 3,
     "metadata": {},
     "output_type": "execute_result"
    }
   ],
   "source": [
    "# Check if Python is working in the right pathway and environment...\n",
    "import sys\n",
    "sys.executable"
   ]
  },
  {
   "cell_type": "markdown",
   "metadata": {},
   "source": [
    "# Set DNN parameters here"
   ]
  },
  {
   "cell_type": "code",
   "execution_count": 4,
   "metadata": {},
   "outputs": [],
   "source": [
    "learning_rate = 0.001      # learning rate\n",
    "training_epochs = 15       # training epochs\n",
    "batch_size = 100           # batch size\n",
    "num_nodes = 64            # number of nodes / layer (5 layers in total)\n",
    "my_keep_prob = 0.7        # keep probability"
   ]
  },
  {
   "cell_type": "markdown",
   "metadata": {},
   "source": [
    "## Model 1\n",
    "\n",
    "* Number of hidden layers = 5 \n",
    "* Number of nodes/layer = 64 (`num_nodes` = 64)\n",
    "* Activation function = ReLU\n",
    "* Initializer = Xavier initalizer\n",
    "* Optimizer = Adam optimizer\n",
    "* User Dropout = TRUE\n",
    "* Keep probability = 0.7"
   ]
  },
  {
   "cell_type": "code",
   "execution_count": 5,
   "metadata": {},
   "outputs": [],
   "source": [
    "# input place holders\n",
    "X = tf.placeholder(tf.float32, [None, 784])\n",
    "Y = tf.placeholder(tf.float32, [None, 10])\n",
    "\n",
    "# dropout (keep_prob) rate  0.7 on training, but should be 1 for testing\n",
    "keep_prob = tf.placeholder(tf.float32)\n"
   ]
  },
  {
   "cell_type": "markdown",
   "metadata": {},
   "source": [
    "## Some links for various settings\n",
    "* Xavier initialization: http://andyljones.tumblr.com/post/110998971763/an-explanation-of-xavier-initialization\n",
    "    \n",
    "    Goal: \"We want the variance of the input and output to be the same\"\n",
    "    \n",
    "    \n",
    "* Some tests with various dropout rates: https://medium.com/@amarbudhiraja/https-medium-com-amarbudhiraja-learning-less-to-learn-better-dropout-in-deep-machine-learning-74334da4bfc5\n"
   ]
  },
  {
   "cell_type": "markdown",
   "metadata": {},
   "source": [
    "# Weights & bias for NN layers (5 layers)"
   ]
  },
  {
   "cell_type": "code",
   "execution_count": 6,
   "metadata": {},
   "outputs": [],
   "source": [
    "# http://stackoverflow.com/questions/33640581/how-to-do-xavier-initialization-on-tensorflow\n",
    "# Layer 1\n",
    "W1 = tf.get_variable(\"W1\", shape=[784, num_nodes],\n",
    "                     initializer=tf.contrib.layers.xavier_initializer())    # xavier initializer\n",
    "b1 = tf.Variable(tf.random_normal([num_nodes]))                             \n",
    "L1 = tf.nn.relu(tf.matmul(X, W1) + b1)                                      # use ReLU\n",
    "L1 = tf.nn.dropout(L1, keep_prob=keep_prob)                                 # use Dropbox with `keep_prob` < 1\n"
   ]
  },
  {
   "cell_type": "code",
   "execution_count": 7,
   "metadata": {},
   "outputs": [],
   "source": [
    "# Layer 2\n",
    "W2 = tf.get_variable(\"W2\", shape=[num_nodes, num_nodes],\n",
    "                     initializer=tf.contrib.layers.xavier_initializer())\n",
    "b2 = tf.Variable(tf.random_normal([num_nodes]))\n",
    "L2 = tf.nn.relu(tf.matmul(L1, W2) + b2)\n",
    "L2 = tf.nn.dropout(L2, keep_prob=keep_prob)"
   ]
  },
  {
   "cell_type": "code",
   "execution_count": 8,
   "metadata": {},
   "outputs": [],
   "source": [
    "# Layer 3\n",
    "W3 = tf.get_variable(\"W3\", shape=[num_nodes, num_nodes],\n",
    "                     initializer=tf.contrib.layers.xavier_initializer())\n",
    "b3 = tf.Variable(tf.random_normal([num_nodes]))\n",
    "L3 = tf.nn.relu(tf.matmul(L2, W3) + b3)\n",
    "L3 = tf.nn.dropout(L3, keep_prob=keep_prob)"
   ]
  },
  {
   "cell_type": "code",
   "execution_count": 9,
   "metadata": {},
   "outputs": [],
   "source": [
    "# Layer 4\n",
    "W4 = tf.get_variable(\"W4\", shape=[num_nodes, num_nodes],\n",
    "                     initializer=tf.contrib.layers.xavier_initializer())\n",
    "b4 = tf.Variable(tf.random_normal([num_nodes]))\n",
    "L4 = tf.nn.relu(tf.matmul(L3, W4) + b4)\n",
    "L4 = tf.nn.dropout(L4, keep_prob=keep_prob)"
   ]
  },
  {
   "cell_type": "code",
   "execution_count": 10,
   "metadata": {},
   "outputs": [],
   "source": [
    "# Layer 5\n",
    "W5 = tf.get_variable(\"W5\", shape=[num_nodes, 10],\n",
    "                     initializer=tf.contrib.layers.xavier_initializer())\n",
    "b5 = tf.Variable(tf.random_normal([10]))\n",
    "hypothesis = tf.matmul(L4, W5) + b5"
   ]
  },
  {
   "cell_type": "code",
   "execution_count": 11,
   "metadata": {},
   "outputs": [],
   "source": [
    "# define cost/loss & optimizer\n",
    "# tf.nn.softmax_cross_entropy_with_logits is deprecated --> use `tf.nn.softmax_cross_entropy_with_logits_v2`\n",
    "cost = tf.reduce_mean(tf.nn.softmax_cross_entropy_with_logits_v2(   #\n",
    "    logits=hypothesis, labels=Y))\n",
    "optimizer = tf.train.AdamOptimizer(learning_rate=learning_rate).minimize(cost)"
   ]
  },
  {
   "cell_type": "code",
   "execution_count": 12,
   "metadata": {},
   "outputs": [],
   "source": [
    "# initialize\n",
    "sess = tf.Session()\n",
    "sess.run(tf.global_variables_initializer())"
   ]
  },
  {
   "cell_type": "code",
   "execution_count": 13,
   "metadata": {},
   "outputs": [
    {
     "name": "stdout",
     "output_type": "stream",
     "text": [
      "Epoch: 0001 cost = 1.071918408\n",
      "Epoch: 0002 cost = 0.475803408\n",
      "Epoch: 0003 cost = 0.382823207\n",
      "Epoch: 0004 cost = 0.334470262\n",
      "Epoch: 0005 cost = 0.299208660\n",
      "Epoch: 0006 cost = 0.279621112\n",
      "Epoch: 0007 cost = 0.268361372\n",
      "Epoch: 0008 cost = 0.248870114\n",
      "Epoch: 0009 cost = 0.245629756\n",
      "Epoch: 0010 cost = 0.227052749\n",
      "Epoch: 0011 cost = 0.221657728\n",
      "Epoch: 0012 cost = 0.216935219\n",
      "Epoch: 0013 cost = 0.207610966\n",
      "Epoch: 0014 cost = 0.200019358\n",
      "Epoch: 0015 cost = 0.200395236\n",
      "Learning Finished!\n"
     ]
    }
   ],
   "source": [
    "# train this model #1\n",
    "for epoch in range(training_epochs):\n",
    "    avg_cost = 0\n",
    "    total_batch = int(mnist.train.num_examples / batch_size)\n",
    "\n",
    "    for i in range(total_batch):\n",
    "        batch_xs, batch_ys = mnist.train.next_batch(batch_size)\n",
    "        feed_dict = {X: batch_xs, Y: batch_ys, keep_prob: my_keep_prob}   # use `my_keep_prob` \n",
    "        c, _ = sess.run([cost, optimizer], feed_dict=feed_dict)\n",
    "        avg_cost += c / total_batch\n",
    "\n",
    "    print('Epoch:', '%04d' % (epoch + 1), 'cost =', '{:.9f}'.format(avg_cost))\n",
    "\n",
    "print('Learning Finished!')"
   ]
  },
  {
   "cell_type": "markdown",
   "metadata": {},
   "source": [
    "# Test model and check accuracy"
   ]
  },
  {
   "cell_type": "code",
   "execution_count": 14,
   "metadata": {},
   "outputs": [
    {
     "name": "stdout",
     "output_type": "stream",
     "text": [
      "Accuracy: 0.9671\n"
     ]
    }
   ],
   "source": [
    "correct_prediction = tf.equal(tf.argmax(hypothesis, 1), tf.argmax(Y, 1))\n",
    "accuracy = tf.reduce_mean(tf.cast(correct_prediction, tf.float32))\n",
    "print('Accuracy:', sess.run(accuracy, feed_dict={\n",
    "      X: mnist.test.images, Y: mnist.test.labels, keep_prob: 1}))   # always set `keep_prob` to 1 here\n"
   ]
  },
  {
   "cell_type": "markdown",
   "metadata": {},
   "source": [
    "# Get one sample and check the prediction on the sample"
   ]
  },
  {
   "cell_type": "code",
   "execution_count": 15,
   "metadata": {},
   "outputs": [
    {
     "name": "stdout",
     "output_type": "stream",
     "text": [
      "Label:  [7]\n",
      "Prediction:  [7]\n"
     ]
    }
   ],
   "source": [
    "r = random.randint(0, mnist.test.num_examples - 1)\n",
    "print(\"Label: \", sess.run(tf.argmax(mnist.test.labels[r:r + 1], 1)))\n",
    "print(\"Prediction: \", sess.run(\n",
    "    tf.argmax(hypothesis, 1), feed_dict={X: mnist.test.images[r:r + 1], keep_prob: 1}))\n",
    "\n",
    "# plt.imshow(mnist.test.images[r:r + 1].\n",
    "#           reshape(28, 28), cmap='Greys', interpolation='nearest')\n",
    "# plt.show()"
   ]
  },
  {
   "cell_type": "markdown",
   "metadata": {},
   "source": [
    "## Model 2\n",
    "### Difference from Model 1: Dropout rate (keep probability = 0.2 instead of 0.7)\n",
    "* Number of hidden layers = 5 \n",
    "* Number of nodes/layer = 64 (`num_nodes` = 64)\n",
    "* Activation function = ReLU\n",
    "* Initializer = Xavier initalizer\n",
    "* Optimizer = Adam optimizer\n",
    "* User Dropout = TRUE\n",
    "* Keep probability = 0.2"
   ]
  },
  {
   "cell_type": "code",
   "execution_count": 16,
   "metadata": {},
   "outputs": [
    {
     "name": "stdout",
     "output_type": "stream",
     "text": [
      "Epoch: 0001 cost = 3.642640914\n",
      "Epoch: 0002 cost = 2.507637128\n",
      "Epoch: 0003 cost = 2.400959353\n",
      "Epoch: 0004 cost = 2.326699578\n",
      "Epoch: 0005 cost = 2.222945050\n",
      "Epoch: 0006 cost = 2.133800762\n",
      "Epoch: 0007 cost = 2.044822040\n",
      "Epoch: 0008 cost = 1.977253184\n",
      "Epoch: 0009 cost = 1.922394416\n",
      "Epoch: 0010 cost = 1.895181823\n",
      "Epoch: 0011 cost = 1.877573472\n",
      "Epoch: 0012 cost = 1.849309535\n",
      "Epoch: 0013 cost = 1.840729435\n",
      "Epoch: 0014 cost = 1.823032065\n",
      "Epoch: 0015 cost = 1.806731970\n",
      "Learning Finished!\n"
     ]
    }
   ],
   "source": [
    "my_keep_prob = 0.2\n",
    "\n",
    "# Layer 1\n",
    "m2_W1 = tf.get_variable(\"m2_W1\", shape=[784, num_nodes],\n",
    "                     initializer=tf.contrib.layers.xavier_initializer())\n",
    "m2_b1 = tf.Variable(tf.random_normal([num_nodes]))\n",
    "m2_L1 = tf.nn.relu  (tf.matmul(X, m2_W1) + m2_b1)\n",
    "m2_L1 = tf.nn.dropout(m2_L1, keep_prob=keep_prob)\n",
    "# Layer 2\n",
    "m2_W2 = tf.get_variable(\"m2_W2\", shape=[num_nodes, num_nodes],\n",
    "                     initializer=tf.contrib.layers.xavier_initializer())\n",
    "m2_b2 = tf.Variable(tf.random_normal([num_nodes]))\n",
    "m2_L2 = tf.nn.relu(tf.matmul(m2_L1, m2_W2) + m2_b2)\n",
    "m2_L2 = tf.nn.dropout(m2_L2, keep_prob=keep_prob)\n",
    "# Layer 3\n",
    "m2_W3 = tf.get_variable(\"m2_W3\", shape=[num_nodes, num_nodes],\n",
    "                     initializer=tf.contrib.layers.xavier_initializer())\n",
    "m2_b3 = tf.Variable(tf.random_normal([num_nodes]))\n",
    "m2_L3 = tf.nn.relu(tf.matmul(m2_L2, m2_W3) + m2_b3)\n",
    "m2_L3 = tf.nn.dropout(m2_L3, keep_prob=keep_prob)\n",
    "# Layer 4\n",
    "m2_W4 = tf.get_variable(\"m2_W4\", shape=[num_nodes, num_nodes],\n",
    "                     initializer=tf.contrib.layers.xavier_initializer())\n",
    "m2_b4 = tf.Variable(tf.random_normal([num_nodes]))\n",
    "m2_L4 = tf.nn.relu(tf.matmul(m2_L3, m2_W4) + m2_b4)\n",
    "m2_L4 = tf.nn.dropout(m2_L4, keep_prob=keep_prob)\n",
    "# Layer 5\n",
    "m2_W5 = tf.get_variable(\"m2_W5\", shape=[num_nodes, 10],\n",
    "                     initializer=tf.contrib.layers.xavier_initializer())\n",
    "m2_b5 = tf.Variable(tf.random_normal([10]))\n",
    "hypothesis = tf.matmul(m2_L4, m2_W5) + m2_b5\n",
    "\n",
    "# define cost/loss & optimizer\n",
    "cost = tf.reduce_mean(tf.nn.softmax_cross_entropy_with_logits_v2(   # use `tf.nn.softmax_cross_entropy_with_logits_v2`\n",
    "    logits=hypothesis, labels=Y))\n",
    "optimizer = tf.train.AdamOptimizer(learning_rate=learning_rate).minimize(cost)\n",
    "\n",
    "# initialize\n",
    "sess = tf.Session()\n",
    "sess.run(tf.global_variables_initializer())\n",
    "\n",
    "# train model #2\n",
    "for epoch in range(training_epochs):\n",
    "    avg_cost = 0\n",
    "    total_batch = int(mnist.train.num_examples / batch_size)\n",
    "\n",
    "    for i in range(total_batch):\n",
    "        batch_xs, batch_ys = mnist.train.next_batch(batch_size)\n",
    "        feed_dict = {X: batch_xs, Y: batch_ys, keep_prob: my_keep_prob}\n",
    "        c, _ = sess.run([cost, optimizer], feed_dict=feed_dict)\n",
    "        avg_cost += c / total_batch\n",
    "\n",
    "    print('Epoch:', '%04d' % (epoch + 1), 'cost =', '{:.9f}'.format(avg_cost))\n",
    "\n",
    "print('Learning Finished!')"
   ]
  },
  {
   "cell_type": "code",
   "execution_count": 17,
   "metadata": {},
   "outputs": [
    {
     "name": "stdout",
     "output_type": "stream",
     "text": [
      "Accuracy: 0.2813\n"
     ]
    }
   ],
   "source": [
    "correct_prediction = tf.equal(tf.argmax(hypothesis, 1), tf.argmax(Y, 1))\n",
    "accuracy = tf.reduce_mean(tf.cast(correct_prediction, tf.float32))\n",
    "print('Accuracy:', sess.run(accuracy, feed_dict={\n",
    "      X: mnist.test.images, Y: mnist.test.labels, keep_prob: 1}))\n"
   ]
  },
  {
   "cell_type": "code",
   "execution_count": null,
   "metadata": {},
   "outputs": [],
   "source": []
  }
 ],
 "metadata": {
  "kernelspec": {
   "display_name": "Python 3",
   "language": "python",
   "name": "python3"
  },
  "language_info": {
   "codemirror_mode": {
    "name": "ipython",
    "version": 3
   },
   "file_extension": ".py",
   "mimetype": "text/x-python",
   "name": "python",
   "nbconvert_exporter": "python",
   "pygments_lexer": "ipython3",
   "version": "3.6.3"
  }
 },
 "nbformat": 4,
 "nbformat_minor": 2
}
