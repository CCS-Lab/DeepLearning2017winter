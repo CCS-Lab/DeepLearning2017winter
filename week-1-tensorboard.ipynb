{
 "cells": [
  {
   "cell_type": "markdown",
   "metadata": {},
   "source": [
    "# TensorBoard\n",
    "\n",
    "![](https://www.tensorflow.org/images/mnist_tensorboard.png)\n",
    "\n",
    "- [TensorBoard: Visualizing Learning  |  TensorFlow](https://www.tensorflow.org/get_started/summaries_and_tensorboard)\n",
    "- [텐서보드 · 텐서플로우 문서 한글 번역본](https://tensorflowkorea.gitbooks.io/tensorflow-kr/content/g3doc/how_tos/summaries_and_tensorboard/)"
   ]
  },
  {
   "cell_type": "code",
   "execution_count": 1,
   "metadata": {},
   "outputs": [
    {
     "name": "stderr",
     "output_type": "stream",
     "text": [
      "/usr/local/anaconda3/envs/tf/lib/python3.6/importlib/_bootstrap.py:219: RuntimeWarning: compiletime version 3.5 of module 'tensorflow.python.framework.fast_tensor_util' does not match runtime version 3.6\n",
      "  return f(*args, **kwds)\n",
      "/usr/local/anaconda3/envs/tf/lib/python3.6/site-packages/h5py/__init__.py:36: FutureWarning: Conversion of the second argument of issubdtype from `float` to `np.floating` is deprecated. In future, it will be treated as `np.float64 == np.dtype(float).type`.\n",
      "  from ._conv import register_converters as _register_converters\n"
     ]
    }
   ],
   "source": [
    "import os\n",
    "os.environ['TF_CPP_MIN_LOG_LEVEL'] = '3'\n",
    "\n",
    "import pandas as pd\n",
    "import tensorflow as tf\n",
    "from sklearn.model_selection import train_test_split"
   ]
  },
  {
   "cell_type": "markdown",
   "metadata": {},
   "source": [
    "## Set the Log Directory"
   ]
  },
  {
   "cell_type": "code",
   "execution_count": 2,
   "metadata": {},
   "outputs": [],
   "source": [
    "import time\n",
    "from pathlib import Path\n",
    "\n",
    "LOGPATH = Path('./logs')\n",
    "timestamp_log = time.strftime('%y%m%d%H%M')\n",
    "\n",
    "logdir = str(LOGPATH / f'lin-reg-{timestamp_log}')"
   ]
  },
  {
   "cell_type": "markdown",
   "metadata": {},
   "source": [
    "## Read Datasets"
   ]
  },
  {
   "cell_type": "code",
   "execution_count": 3,
   "metadata": {},
   "outputs": [],
   "source": [
    "DIM_INPUTS = 11\n",
    "DIM_OUTPUTS = 1"
   ]
  },
  {
   "cell_type": "code",
   "execution_count": 4,
   "metadata": {},
   "outputs": [],
   "source": [
    "dat = pd.read_csv('datasets/winequality-red.csv')\n",
    "X_total, Y_total = dat.values[:, 0:-1], dat.values[:, [-1]]\n",
    "X_train, X_test, Y_train, Y_test = train_test_split(X_total, Y_total, test_size=0.2)"
   ]
  },
  {
   "cell_type": "markdown",
   "metadata": {},
   "source": [
    "## Model"
   ]
  },
  {
   "cell_type": "code",
   "execution_count": 5,
   "metadata": {},
   "outputs": [],
   "source": [
    "with tf.name_scope('Inputs'):\n",
    "    X = tf.placeholder(tf.float32, shape=[None, DIM_INPUTS], name='Input')\n",
    "\n",
    "with tf.name_scope('Targets'):\n",
    "    Y = tf.placeholder(tf.float32, shape=[None, DIM_OUTPUTS], name='Target')\n",
    "\n",
    "with tf.name_scope('Weights'):\n",
    "    W = tf.Variable(tf.random_normal([DIM_INPUTS, DIM_OUTPUTS]), name='Weights')\n",
    "\n",
    "with tf.name_scope('Bias'):\n",
    "    b = tf.Variable(tf.random_normal([DIM_OUTPUTS]), name='Bias')"
   ]
  },
  {
   "cell_type": "markdown",
   "metadata": {},
   "source": [
    "## Optimization"
   ]
  },
  {
   "cell_type": "code",
   "execution_count": 6,
   "metadata": {},
   "outputs": [],
   "source": [
    "with tf.name_scope('Hypothesis'):\n",
    "    H = tf.matmul(X, W) + b\n",
    "\n",
    "with tf.name_scope('Train'):\n",
    "    with tf.name_scope('Cost'):\n",
    "        cost = tf.reduce_mean(tf.square(H - Y))\n",
    "\n",
    "        # Track cost as a scalar\n",
    "        tf.summary.scalar('Cost', cost)\n",
    "\n",
    "    with tf.name_scope('Optimizer'):\n",
    "        optimizer = tf.train.GradientDescentOptimizer(learning_rate=1e-4)\n",
    "        \n",
    "    with tf.name_scope('Gradients'):\n",
    "        gradient = tf.reduce_mean((H - Y) * X) * 2\n",
    "        \n",
    "        # Track gradient as a scalar\n",
    "        tf.summary.scalar('Gradients/mean', gradient)\n",
    "\n",
    "    train = optimizer.minimize(cost)"
   ]
  },
  {
   "cell_type": "markdown",
   "metadata": {},
   "source": [
    "## Make a Session"
   ]
  },
  {
   "cell_type": "code",
   "execution_count": 7,
   "metadata": {},
   "outputs": [],
   "source": [
    "sess = tf.Session()\n",
    "sess.run(tf.global_variables_initializer())\n",
    "writer = tf.summary.FileWriter(logdir, sess.graph)\n",
    "merged = tf.summary.merge_all()"
   ]
  },
  {
   "cell_type": "markdown",
   "metadata": {},
   "source": [
    "## Train the Model"
   ]
  },
  {
   "cell_type": "code",
   "execution_count": 8,
   "metadata": {},
   "outputs": [],
   "source": [
    "costs = []\n",
    "for step in range(2001):\n",
    "    _, summary = sess.run([train, merged], feed_dict={X: X_train, Y: Y_train})\n",
    "    writer.add_summary(summary, step)\n",
    "    writer.flush()"
   ]
  },
  {
   "cell_type": "markdown",
   "metadata": {},
   "source": [
    "## Close the Session"
   ]
  },
  {
   "cell_type": "code",
   "execution_count": 9,
   "metadata": {},
   "outputs": [],
   "source": [
    "writer.close()\n",
    "sess.close()"
   ]
  },
  {
   "cell_type": "markdown",
   "metadata": {},
   "source": [
    "## Outputs on TensorBoard\n",
    "\n",
    "\n",
    "```bash\n",
    "tensorboard --logdir=path/to/log-directory\n",
    "```\n",
    "\n",
    "![](./images/tensorboard-scalars.png)\n",
    "![](./images/tensorboard-graphs.png)"
   ]
  }
 ],
 "metadata": {
  "kernelspec": {
   "display_name": "Python 3",
   "language": "python",
   "name": "python3"
  },
  "language_info": {
   "codemirror_mode": {
    "name": "ipython",
    "version": 3
   },
   "file_extension": ".py",
   "mimetype": "text/x-python",
   "name": "python",
   "nbconvert_exporter": "python",
   "pygments_lexer": "ipython3",
   "version": "3.6.4"
  }
 },
 "nbformat": 4,
 "nbformat_minor": 2
}
